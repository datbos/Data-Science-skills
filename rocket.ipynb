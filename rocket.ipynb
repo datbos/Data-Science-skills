{
 "cells": [
  {
   "cell_type": "markdown",
   "metadata": {},
   "source": [
    "## Rocket test classes"
   ]
  },
  {
   "cell_type": "code",
   "execution_count": 4,
   "metadata": {},
   "outputs": [
    {
     "name": "stdout",
     "output_type": "stream",
     "text": [
      "The rockets are 11.180340 units apart.\n",
      "The rockets are 22.360680 units apart.\n"
     ]
    }
   ],
   "source": [
    "from math import sqrt\n",
    "\n",
    "class Rocket():\n",
    "    # Rocket simulates a rocket ship for a game,\n",
    "    #  or a physics simulation.\n",
    "    \n",
    "    def __init__(self, x=0, y=0):\n",
    "        # Each rocket has an (x,y) position.\n",
    "        self.x = x\n",
    "        self.y = y\n",
    "        \n",
    "    def move_rocket(self, x_increment=0, y_increment=1):\n",
    "        # Move the rocket according to the paremeters given.\n",
    "        #  Default behavior is to move the rocket up one unit.\n",
    "        self.x += x_increment\n",
    "        self.y += y_increment\n",
    "        \n",
    "    def get_distance(self, other_rocket):\n",
    "        # Calculates the distance from this rocket to another rocket,\n",
    "        #  and returns that value.\n",
    "        distance = sqrt((self.x-other_rocket.x)**2+(self.y-other_rocket.y)**2)\n",
    "        return distance\n",
    "    \n",
    "# Make two rockets, at different places.\n",
    "rocket_0 = Rocket()\n",
    "rocket_1 = Rocket(10,5)\n",
    "rocket_2 = Rocket(20,10)\n",
    "\n",
    "# Show the distance between them.\n",
    "distance = rocket_0.get_distance(rocket_1)\n",
    "distance1 = rocket_0.get_distance(rocket_2)\n",
    "print(\"The rockets are %f units apart.\" % distance)\n",
    "print(\"The rockets are %f units apart.\" % distance1)\n"
   ]
  },
  {
   "cell_type": "code",
   "execution_count": 51,
   "metadata": {},
   "outputs": [
    {
     "name": "stdout",
     "output_type": "stream",
     "text": [
      "rocket 0 is at (0,0).\n",
      "rocket 1 is at (1,1).\n",
      "rocket 2 is at (2,2).\n",
      "rocket 3 is at (3,3).\n",
      "rocket 4 is at (4,4).\n",
      "rocket0 is 1.414214 from rocket1\n",
      "rocket1 is 0.000000 from rocket1\n",
      "rocket2 is 1.414214 from rocket1\n",
      "rocket3 is 2.828427 from rocket1\n",
      "rocket4 is 4.242641 from rocket1\n"
     ]
    }
   ],
   "source": [
    "class rocket():\n",
    "    def __init__(self, x=0, y=0):\n",
    "        self.x = x\n",
    "        self.y = y\n",
    "        \n",
    "    def move(self, increment_x = 1, increment_y = 1):\n",
    "        self.x += increment_x\n",
    "        self.y += increment_y\n",
    "        \n",
    "    def get_distance(self, other_rocket):\n",
    "        distance = sqrt((self.x-other_rocket.x)**2+(self.y-other_rocket.y)**2)\n",
    "        return distance\n",
    "\n",
    "rockets = [rocket() for x in range(0,5)]\n",
    "\n",
    "rockets[0].move(0,0)\n",
    "rockets[1].move(1,1)\n",
    "rockets[2].move(2,2)\n",
    "rockets[3].move(3,3)\n",
    "rockets[4].move(4,4)\n",
    "\n",
    "for index, rocket in enumerate(rockets):\n",
    "    print(\"rocket %d is at (%d,%d).\"%(index,rocket.x,rocket.y))\n",
    "    \n",
    "#rocket1=rocket(0,0)\n",
    "#rocket2=rocket(10,20)\n",
    "#rocket3=rocket(20,40)\n",
    "\n",
    "distance = [rockets[1].get_distance(rockets[(x)]) for x in range(0,5)]\n",
    "#print(distance)\n",
    "\n",
    "#rocket1 = rocket(0,20)\n",
    "#print(rocket1.x,rocket1.y)\n",
    "#rocket1.move_rocket()\n",
    "#print(rocket1.x,rocket1.y)\n",
    "#rocket1.move_rocket(10,1)\n",
    "#print(rocket1.x,rocket1.y)\n",
    "#print(rocket2.x,rocket2.y)\n",
    "for idx, val in enumerate(distance):\n",
    "    \n",
    "    print(\"rocket%d is %f from rocket1\"%(idx,val))\n",
    "#distance = [rockets[1].get_distance(rockets[(x)]) for x in range(0,5)]\n",
    "#print(distance)\n"
   ]
  },
  {
   "cell_type": "code",
   "execution_count": null,
   "metadata": {},
   "outputs": [],
   "source": []
  }
 ],
 "metadata": {
  "kernelspec": {
   "display_name": "Python 3",
   "language": "python",
   "name": "python3"
  },
  "language_info": {
   "codemirror_mode": {
    "name": "ipython",
    "version": 3
   },
   "file_extension": ".py",
   "mimetype": "text/x-python",
   "name": "python",
   "nbconvert_exporter": "python",
   "pygments_lexer": "ipython3",
   "version": "3.6.4"
  }
 },
 "nbformat": 4,
 "nbformat_minor": 2
}
